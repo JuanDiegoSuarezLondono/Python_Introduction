{
 "cells": [
  {
   "cell_type": "markdown",
   "id": "e3e40e70",
   "metadata": {},
   "source": [
    "# Outline\n",
    "- Subsetting several data points (Slicing)\n",
    "- Subsetting in reverse\n",
    "- Subsetting with no start or stop bound"
   ]
  },
  {
   "cell_type": "code",
   "execution_count": 1,
   "id": "c79bb86a",
   "metadata": {},
   "outputs": [],
   "source": [
    "#List of list witch include date, temperature, and whether you were in a positive mood\n",
    "dec_temperatures_mood = [[\"Dec 10\", 20, True], [\"Dec 11\", 22, True], [\"Dec 12\", 21, True],[\"Dec 13\", 19, False],[\"Dec 14\",13, False],[\"Dec 15\", 21, True]]"
   ]
  },
  {
   "cell_type": "markdown",
   "id": "01f8d23b",
   "metadata": {},
   "source": [
    "## Subsetting several data points (Slicing)"
   ]
  },
  {
   "cell_type": "code",
   "execution_count": 3,
   "id": "67ca69dc",
   "metadata": {},
   "outputs": [
    {
     "data": {
      "text/plain": [
       "[['Dec 10', 20, True]]"
      ]
     },
     "execution_count": 3,
     "metadata": {},
     "output_type": "execute_result"
    }
   ],
   "source": [
    "#First index is inclusive, last index is exclusive, so here python will get\n",
    "#the data from 0 to 1, but not include 1\n",
    "dec_temperatures_mood[0:1]"
   ]
  },
  {
   "cell_type": "code",
   "execution_count": 4,
   "id": "9754be2b",
   "metadata": {},
   "outputs": [
    {
     "data": {
      "text/plain": [
       "[['Dec 10', 20, True], ['Dec 11', 22, True]]"
      ]
     },
     "execution_count": 4,
     "metadata": {},
     "output_type": "execute_result"
    }
   ],
   "source": [
    "#Python will get data from 0 to 2, not including 2\n",
    "dec_temperatures_mood[0:2]"
   ]
  },
  {
   "cell_type": "markdown",
   "id": "58b03113",
   "metadata": {},
   "source": [
    "## Subsetting in reverse "
   ]
  },
  {
   "cell_type": "code",
   "execution_count": 5,
   "id": "2192aaa6",
   "metadata": {},
   "outputs": [
    {
     "data": {
      "text/plain": [
       "['Dec 15', 21, True]"
      ]
     },
     "execution_count": 5,
     "metadata": {},
     "output_type": "execute_result"
    }
   ],
   "source": [
    "dec_temperatures_mood[-1]"
   ]
  },
  {
   "cell_type": "code",
   "execution_count": 6,
   "id": "58d1d602",
   "metadata": {},
   "outputs": [
    {
     "data": {
      "text/plain": [
       "[['Dec 13', 19, False], ['Dec 14', 13, False]]"
      ]
     },
     "execution_count": 6,
     "metadata": {},
     "output_type": "execute_result"
    }
   ],
   "source": [
    "dec_temperatures_mood[-3:-1]"
   ]
  },
  {
   "cell_type": "markdown",
   "id": "94816328",
   "metadata": {},
   "source": [
    "## Subsetting with no start or stop bound "
   ]
  },
  {
   "cell_type": "code",
   "execution_count": 7,
   "id": "60d2c6a2",
   "metadata": {},
   "outputs": [
    {
     "data": {
      "text/plain": [
       "[['Dec 11', 22, True],\n",
       " ['Dec 12', 21, True],\n",
       " ['Dec 13', 19, False],\n",
       " ['Dec 14', 13, False],\n",
       " ['Dec 15', 21, True]]"
      ]
     },
     "execution_count": 7,
     "metadata": {},
     "output_type": "execute_result"
    }
   ],
   "source": [
    "dec_temperatures_mood[1:]"
   ]
  },
  {
   "cell_type": "code",
   "execution_count": 8,
   "id": "a37a3262",
   "metadata": {},
   "outputs": [
    {
     "data": {
      "text/plain": [
       "[['Dec 10', 20, True], ['Dec 11', 22, True], ['Dec 12', 21, True]]"
      ]
     },
     "execution_count": 8,
     "metadata": {},
     "output_type": "execute_result"
    }
   ],
   "source": [
    "dec_temperatures_mood[:3]"
   ]
  },
  {
   "cell_type": "code",
   "execution_count": null,
   "id": "c8f27db2",
   "metadata": {},
   "outputs": [],
   "source": []
  }
 ],
 "metadata": {
  "kernelspec": {
   "display_name": "Python 3 (ipykernel)",
   "language": "python",
   "name": "python3"
  },
  "language_info": {
   "codemirror_mode": {
    "name": "ipython",
    "version": 3
   },
   "file_extension": ".py",
   "mimetype": "text/x-python",
   "name": "python",
   "nbconvert_exporter": "python",
   "pygments_lexer": "ipython3",
   "version": "3.10.9"
  }
 },
 "nbformat": 4,
 "nbformat_minor": 5
}
