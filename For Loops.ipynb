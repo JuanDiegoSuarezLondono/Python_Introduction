{
 "cells": [
  {
   "cell_type": "markdown",
   "id": "05b05e9e",
   "metadata": {},
   "source": [
    "# Outline\n",
    "- Iterable\n",
    "- For loop\n",
    "- range() function\n",
    "- For oop with conditional"
   ]
  },
  {
   "cell_type": "markdown",
   "id": "b099ff07",
   "metadata": {},
   "source": [
    "## Iterable\n",
    "- An object capable of returning its members one at a time\n",
    "- List, tuples, strings"
   ]
  },
  {
   "cell_type": "markdown",
   "id": "d175537a",
   "metadata": {},
   "source": [
    "## for loop "
   ]
  },
  {
   "cell_type": "code",
   "execution_count": 1,
   "id": "3029480b",
   "metadata": {},
   "outputs": [],
   "source": [
    "test_scores = [40,65,91,92,93]"
   ]
  },
  {
   "cell_type": "code",
   "execution_count": 5,
   "id": "40e84809",
   "metadata": {},
   "outputs": [],
   "source": [
    "test_scores[0] = test_scores[0] + 7\n",
    "test_scores[1] = test_scores[1] + 7\n",
    "test_scores[2] = test_scores[2] + 7\n",
    "test_scores[3] = test_scores[3] + 7\n",
    "test_scores[4] = test_scores[4] + 7"
   ]
  },
  {
   "cell_type": "code",
   "execution_count": 6,
   "id": "298e6a42",
   "metadata": {},
   "outputs": [
    {
     "name": "stdout",
     "output_type": "stream",
     "text": [
      "[61, 86, 105, 99, 100]\n"
     ]
    }
   ],
   "source": [
    "print(test_scores)"
   ]
  },
  {
   "cell_type": "code",
   "execution_count": 7,
   "id": "190f1335",
   "metadata": {},
   "outputs": [],
   "source": [
    "# a for loop that adds 7 to each score\n",
    "for score in test_scores:\n",
    "    score = score +7"
   ]
  },
  {
   "cell_type": "code",
   "execution_count": 8,
   "id": "7eb2b1a3",
   "metadata": {
    "scrolled": true
   },
   "outputs": [
    {
     "name": "stdout",
     "output_type": "stream",
     "text": [
      "L!\n",
      "O!\n",
      "L!\n"
     ]
    }
   ],
   "source": [
    "for letter in \"LOL\":\n",
    "    print(letter + \"!\")"
   ]
  },
  {
   "cell_type": "markdown",
   "id": "3c5ed9f1",
   "metadata": {},
   "source": [
    "## range() function "
   ]
  },
  {
   "cell_type": "code",
   "execution_count": 9,
   "id": "9bd3435b",
   "metadata": {},
   "outputs": [],
   "source": [
    "my_list = [1,2,3,4,5]"
   ]
  },
  {
   "cell_type": "code",
   "execution_count": 11,
   "id": "595fb1ea",
   "metadata": {},
   "outputs": [
    {
     "name": "stdout",
     "output_type": "stream",
     "text": [
      "2\n",
      "4\n",
      "6\n",
      "8\n",
      "10\n"
     ]
    }
   ],
   "source": [
    "for number in my_list:\n",
    "    number = number*2\n",
    "    print(number)"
   ]
  },
  {
   "cell_type": "code",
   "execution_count": 12,
   "id": "87dea9f1",
   "metadata": {},
   "outputs": [
    {
     "name": "stdout",
     "output_type": "stream",
     "text": [
      "2\n",
      "4\n",
      "6\n",
      "8\n",
      "10\n",
      "12\n",
      "14\n",
      "16\n",
      "18\n",
      "20\n",
      "22\n",
      "24\n",
      "26\n",
      "28\n",
      "30\n",
      "32\n",
      "34\n",
      "36\n",
      "38\n",
      "40\n",
      "42\n",
      "44\n",
      "46\n",
      "48\n",
      "50\n",
      "52\n",
      "54\n",
      "56\n",
      "58\n",
      "60\n",
      "62\n",
      "64\n",
      "66\n",
      "68\n",
      "70\n",
      "72\n",
      "74\n",
      "76\n",
      "78\n",
      "80\n",
      "82\n",
      "84\n",
      "86\n",
      "88\n",
      "90\n",
      "92\n",
      "94\n",
      "96\n",
      "98\n",
      "100\n",
      "102\n",
      "104\n",
      "106\n",
      "108\n",
      "110\n",
      "112\n",
      "114\n",
      "116\n",
      "118\n",
      "120\n",
      "122\n",
      "124\n",
      "126\n",
      "128\n",
      "130\n",
      "132\n",
      "134\n",
      "136\n",
      "138\n",
      "140\n",
      "142\n",
      "144\n",
      "146\n",
      "148\n",
      "150\n",
      "152\n",
      "154\n",
      "156\n",
      "158\n",
      "160\n",
      "162\n",
      "164\n",
      "166\n",
      "168\n",
      "170\n",
      "172\n",
      "174\n",
      "176\n",
      "178\n",
      "180\n",
      "182\n",
      "184\n",
      "186\n",
      "188\n",
      "190\n",
      "192\n",
      "194\n",
      "196\n",
      "198\n",
      "200\n"
     ]
    }
   ],
   "source": [
    "#Using the range function to multiply to all intergers 1 to 100\n",
    "for number in range(1,101):\n",
    "    number = number*2\n",
    "    print(number)"
   ]
  },
  {
   "cell_type": "markdown",
   "id": "f30ef61c",
   "metadata": {},
   "source": [
    "## for loop with conditional "
   ]
  },
  {
   "cell_type": "code",
   "execution_count": 15,
   "id": "42f96564",
   "metadata": {},
   "outputs": [],
   "source": [
    "test_scores = [40,65,91,92,93]"
   ]
  },
  {
   "cell_type": "code",
   "execution_count": 16,
   "id": "39a8bc7a",
   "metadata": {},
   "outputs": [
    {
     "name": "stdout",
     "output_type": "stream",
     "text": [
      "47\n",
      "72\n",
      "91\n",
      "92\n",
      "93\n"
     ]
    }
   ],
   "source": [
    "for score in test_scores:\n",
    "    if score < 80:\n",
    "        score = score +7\n",
    "    print(score)"
   ]
  },
  {
   "cell_type": "markdown",
   "id": "7d11ce5f",
   "metadata": {},
   "source": [
    "## for loop in a function"
   ]
  },
  {
   "cell_type": "code",
   "execution_count": 18,
   "id": "c48c952e",
   "metadata": {},
   "outputs": [],
   "source": [
    "def score_curve(test_scores):\n",
    "    for score in test_scores:\n",
    "        if score < 80:\n",
    "            score = score + 7\n",
    "        print(score)"
   ]
  },
  {
   "cell_type": "code",
   "execution_count": 19,
   "id": "1648e00f",
   "metadata": {},
   "outputs": [
    {
     "name": "stdout",
     "output_type": "stream",
     "text": [
      "8\n",
      "9\n",
      "90\n"
     ]
    }
   ],
   "source": [
    "score_curve([1,2,90])"
   ]
  },
  {
   "cell_type": "code",
   "execution_count": null,
   "id": "29c7000a",
   "metadata": {},
   "outputs": [],
   "source": []
  }
 ],
 "metadata": {
  "kernelspec": {
   "display_name": "Python 3 (ipykernel)",
   "language": "python",
   "name": "python3"
  },
  "language_info": {
   "codemirror_mode": {
    "name": "ipython",
    "version": 3
   },
   "file_extension": ".py",
   "mimetype": "text/x-python",
   "name": "python",
   "nbconvert_exporter": "python",
   "pygments_lexer": "ipython3",
   "version": "3.10.9"
  }
 },
 "nbformat": 4,
 "nbformat_minor": 5
}
