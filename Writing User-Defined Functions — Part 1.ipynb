{
 "cells": [
  {
   "cell_type": "markdown",
   "id": "ac179ff3",
   "metadata": {},
   "source": [
    "# Outline\n",
    "- User-defined functions syntax\n",
    "- Writing a simple function"
   ]
  },
  {
   "cell_type": "markdown",
   "id": "68aca0cd",
   "metadata": {},
   "source": [
    "## User-defined function syntax \n",
    "These are functions written by your own. The name of the function is declared by \"def\" and ends with \"()\". The content of the function must be indented"
   ]
  },
  {
   "cell_type": "markdown",
   "id": "3fdfb16e",
   "metadata": {},
   "source": [
    "## Writing a simple function"
   ]
  },
  {
   "cell_type": "code",
   "execution_count": 3,
   "id": "795467ff",
   "metadata": {},
   "outputs": [],
   "source": [
    "def hello_world():\n",
    "    \"\"\"Prints out 'Hello, my lova!'\"\"\"\n",
    "    x = \"Hello, \" + \"my lova!\"\n",
    "    print(x)"
   ]
  },
  {
   "cell_type": "code",
   "execution_count": 4,
   "id": "a9f5cf37",
   "metadata": {},
   "outputs": [
    {
     "name": "stdout",
     "output_type": "stream",
     "text": [
      "Hello, my lova!\n"
     ]
    }
   ],
   "source": [
    "hello_world()"
   ]
  },
  {
   "cell_type": "code",
   "execution_count": null,
   "id": "2422b928",
   "metadata": {},
   "outputs": [],
   "source": []
  }
 ],
 "metadata": {
  "kernelspec": {
   "display_name": "Python 3 (ipykernel)",
   "language": "python",
   "name": "python3"
  },
  "language_info": {
   "codemirror_mode": {
    "name": "ipython",
    "version": 3
   },
   "file_extension": ".py",
   "mimetype": "text/x-python",
   "name": "python",
   "nbconvert_exporter": "python",
   "pygments_lexer": "ipython3",
   "version": "3.10.9"
  }
 },
 "nbformat": 4,
 "nbformat_minor": 5
}
