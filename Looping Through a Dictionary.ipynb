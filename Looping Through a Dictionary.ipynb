{
 "cells": [
  {
   "cell_type": "markdown",
   "id": "b2dafdc0",
   "metadata": {},
   "source": [
    "# Outline\n",
    "- Looping over a list vs. looping over a dictionary\n",
    "- .items() method"
   ]
  },
  {
   "cell_type": "markdown",
   "id": "d88e6e25",
   "metadata": {},
   "source": [
    "## Looping over a list vs. looping over a dictionary "
   ]
  },
  {
   "cell_type": "code",
   "execution_count": 1,
   "id": "95d215ab",
   "metadata": {},
   "outputs": [],
   "source": [
    "test_scores = [40,65,91,92,93]"
   ]
  },
  {
   "cell_type": "code",
   "execution_count": 2,
   "id": "30e891df",
   "metadata": {},
   "outputs": [
    {
     "name": "stdout",
     "output_type": "stream",
     "text": [
      "47\n",
      "72\n",
      "98\n",
      "99\n",
      "100\n"
     ]
    }
   ],
   "source": [
    "for score in test_scores:\n",
    "    score = score + 7\n",
    "    print(score)"
   ]
  },
  {
   "cell_type": "markdown",
   "id": "bb604c0e",
   "metadata": {},
   "source": [
    "## .items() method "
   ]
  },
  {
   "cell_type": "code",
   "execution_count": 4,
   "id": "28b65dd9",
   "metadata": {},
   "outputs": [],
   "source": [
    "test_scores_dict = {\n",
    "    'George':40,\n",
    "    'Jerry':65,\n",
    "    'Elaine':91,\n",
    "    'Kramer':92,\n",
    "    'Newman':93\n",
    "}"
   ]
  },
  {
   "cell_type": "code",
   "execution_count": 7,
   "id": "f4ee6f86",
   "metadata": {},
   "outputs": [
    {
     "name": "stdout",
     "output_type": "stream",
     "text": [
      "George: 47\n",
      "Jerry: 72\n",
      "Elaine: 98\n",
      "Kramer: 99\n",
      "Newman: 100\n"
     ]
    }
   ],
   "source": [
    "for name, score in test_scores_dict.items():\n",
    "    score = score + 7\n",
    "    print(name + \": \" + str(score))"
   ]
  },
  {
   "cell_type": "code",
   "execution_count": null,
   "id": "7289433f",
   "metadata": {},
   "outputs": [],
   "source": []
  }
 ],
 "metadata": {
  "kernelspec": {
   "display_name": "Python 3 (ipykernel)",
   "language": "python",
   "name": "python3"
  },
  "language_info": {
   "codemirror_mode": {
    "name": "ipython",
    "version": 3
   },
   "file_extension": ".py",
   "mimetype": "text/x-python",
   "name": "python",
   "nbconvert_exporter": "python",
   "pygments_lexer": "ipython3",
   "version": "3.10.9"
  }
 },
 "nbformat": 4,
 "nbformat_minor": 5
}
