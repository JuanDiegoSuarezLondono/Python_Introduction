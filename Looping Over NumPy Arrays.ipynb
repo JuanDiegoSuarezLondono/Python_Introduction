{
 "cells": [
  {
   "cell_type": "markdown",
   "id": "d10e2c96",
   "metadata": {},
   "source": [
    "# Outline\n",
    "- Looping over a 1D numpy array\n",
    "- Looping over a 2D numpy array"
   ]
  },
  {
   "cell_type": "markdown",
   "id": "147fcfc2",
   "metadata": {},
   "source": [
    "## Looping over a 1D numpy array "
   ]
  },
  {
   "cell_type": "code",
   "execution_count": 3,
   "id": "5e59077f",
   "metadata": {},
   "outputs": [],
   "source": [
    "#Import numpy\n",
    "import numpy as np"
   ]
  },
  {
   "cell_type": "code",
   "execution_count": 4,
   "id": "afa0899d",
   "metadata": {},
   "outputs": [],
   "source": [
    "#List of masses\n",
    "mass = [12,20,32]"
   ]
  },
  {
   "cell_type": "code",
   "execution_count": 5,
   "id": "755c4001",
   "metadata": {},
   "outputs": [],
   "source": [
    "#Create a mass array\n",
    "mass_array = np.array(mass)"
   ]
  },
  {
   "cell_type": "code",
   "execution_count": 7,
   "id": "16d1fc51",
   "metadata": {},
   "outputs": [
    {
     "name": "stdout",
     "output_type": "stream",
     "text": [
      "117.60000000000001\n",
      "196.0\n",
      "313.6\n"
     ]
    }
   ],
   "source": [
    "#Calculate weights by multiplying mass by 9.8\n",
    "for mass in mass_array:\n",
    "    weight = mass * 9.8\n",
    "    print(weight)"
   ]
  },
  {
   "cell_type": "markdown",
   "id": "fd2e960a",
   "metadata": {},
   "source": [
    "## Looping over a 2D numpy array "
   ]
  },
  {
   "cell_type": "code",
   "execution_count": 9,
   "id": "bc3c5d64",
   "metadata": {},
   "outputs": [],
   "source": [
    "#Create a 2D NumPy array from a list of lists\n",
    "massvolume = [[12,20,32],[36,18,10]]"
   ]
  },
  {
   "cell_type": "code",
   "execution_count": 10,
   "id": "9f065148",
   "metadata": {},
   "outputs": [],
   "source": [
    "massvolume_array = np.array(massvolume)"
   ]
  },
  {
   "cell_type": "code",
   "execution_count": 12,
   "id": "435fba86",
   "metadata": {},
   "outputs": [
    {
     "name": "stdout",
     "output_type": "stream",
     "text": [
      "[12 20 32]\n",
      "[36 18 10]\n"
     ]
    }
   ],
   "source": [
    "for value in massvolume_array:\n",
    "    print(value)"
   ]
  },
  {
   "cell_type": "code",
   "execution_count": 13,
   "id": "6dd3b1f2",
   "metadata": {},
   "outputs": [
    {
     "name": "stdout",
     "output_type": "stream",
     "text": [
      "12\n",
      "20\n",
      "32\n",
      "36\n",
      "18\n",
      "10\n"
     ]
    }
   ],
   "source": [
    "#Use ndite function to loop through a 2D numpy array\n",
    "for value in np.nditer(massvolume_array):\n",
    "    print(value)"
   ]
  },
  {
   "cell_type": "code",
   "execution_count": 14,
   "id": "1dc88b07",
   "metadata": {},
   "outputs": [
    {
     "name": "stdout",
     "output_type": "stream",
     "text": [
      "117.60000000000001\n",
      "196.0\n",
      "313.6\n"
     ]
    }
   ],
   "source": [
    "for value in np.nditer(massvolume_array[0]):\n",
    "    weight = value * 9.8\n",
    "    print(weight)"
   ]
  },
  {
   "cell_type": "code",
   "execution_count": null,
   "id": "e64438af",
   "metadata": {},
   "outputs": [],
   "source": []
  }
 ],
 "metadata": {
  "kernelspec": {
   "display_name": "Python 3 (ipykernel)",
   "language": "python",
   "name": "python3"
  },
  "language_info": {
   "codemirror_mode": {
    "name": "ipython",
    "version": 3
   },
   "file_extension": ".py",
   "mimetype": "text/x-python",
   "name": "python",
   "nbconvert_exporter": "python",
   "pygments_lexer": "ipython3",
   "version": "3.10.9"
  }
 },
 "nbformat": 4,
 "nbformat_minor": 5
}
