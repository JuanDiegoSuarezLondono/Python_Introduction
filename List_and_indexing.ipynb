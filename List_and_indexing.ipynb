{
 "cells": [
  {
   "cell_type": "markdown",
   "id": "7833fba5",
   "metadata": {},
   "source": [
    "# Outline\n",
    "- What is list?\n",
    "- List examples and use cases\n",
    "- Lists with different variable types\n",
    "- Indexing"
   ]
  },
  {
   "cell_type": "markdown",
   "id": "934181c8",
   "metadata": {},
   "source": [
    "## List examples and use cases "
   ]
  },
  {
   "cell_type": "code",
   "execution_count": 1,
   "id": "f05e37df",
   "metadata": {},
   "outputs": [],
   "source": [
    "my_list = [1,2,3,4,5]"
   ]
  },
  {
   "cell_type": "code",
   "execution_count": 2,
   "id": "b18b0df3",
   "metadata": {},
   "outputs": [
    {
     "data": {
      "text/plain": [
       "list"
      ]
     },
     "execution_count": 2,
     "metadata": {},
     "output_type": "execute_result"
    }
   ],
   "source": [
    "type(my_list)"
   ]
  },
  {
   "cell_type": "code",
   "execution_count": 5,
   "id": "586726ec",
   "metadata": {},
   "outputs": [],
   "source": [
    "temperatures = [20,22,21,19,13,21]"
   ]
  },
  {
   "cell_type": "markdown",
   "id": "caced289",
   "metadata": {},
   "source": [
    "## List with different variable types "
   ]
  },
  {
   "cell_type": "code",
   "execution_count": 7,
   "id": "6338d94b",
   "metadata": {},
   "outputs": [],
   "source": [
    "dec_temperatures = [\"Dec 10\", 20, \"Dec 11\", 22, \"Dec 12\", 21, \"Dec 13\", 19, \"Dec 14\",13, \"Dec 15\", 21]"
   ]
  },
  {
   "cell_type": "code",
   "execution_count": 13,
   "id": "335a868c",
   "metadata": {},
   "outputs": [],
   "source": [
    "dec_temperatures_mood = [\"Dec 10\", 20, True, \"Dec 11\", 22, True, \"Dec 12\", 21, True,\"Dec 13\", 19, False,\"Dec 14\",13, False,\"Dec 15\", 21, True]"
   ]
  },
  {
   "cell_type": "markdown",
   "id": "aef3a3a6",
   "metadata": {},
   "source": [
    "## Indexing\n",
    "Remember that the row start at position \"0\""
   ]
  },
  {
   "cell_type": "code",
   "execution_count": 9,
   "id": "3b3621c7",
   "metadata": {},
   "outputs": [
    {
     "data": {
      "text/plain": [
       "'Dec 10'"
      ]
     },
     "execution_count": 9,
     "metadata": {},
     "output_type": "execute_result"
    }
   ],
   "source": [
    "dec_temperatures_mood[0]"
   ]
  },
  {
   "cell_type": "code",
   "execution_count": 10,
   "id": "86f3b52f",
   "metadata": {},
   "outputs": [
    {
     "data": {
      "text/plain": [
       "True"
      ]
     },
     "execution_count": 10,
     "metadata": {},
     "output_type": "execute_result"
    }
   ],
   "source": [
    "dec_temperatures_mood[5]"
   ]
  },
  {
   "cell_type": "code",
   "execution_count": 11,
   "id": "ba66fd6c",
   "metadata": {},
   "outputs": [
    {
     "data": {
      "text/plain": [
       "str"
      ]
     },
     "execution_count": 11,
     "metadata": {},
     "output_type": "execute_result"
    }
   ],
   "source": [
    "type(dec_temperatures_mood[3])"
   ]
  },
  {
   "cell_type": "code",
   "execution_count": 15,
   "id": "e6b653c4",
   "metadata": {},
   "outputs": [],
   "source": [
    "#Create a list of list\n",
    "dec_temperatures_mood = [[\"Dec 10\", 20, True], [\"Dec 11\", 22, True], [\"Dec 12\", 21, True],[\"Dec 13\", 19, False],[\"Dec 14\",13, False],[\"Dec 15\", 21, True]]"
   ]
  },
  {
   "cell_type": "code",
   "execution_count": 17,
   "id": "6bd99bd3",
   "metadata": {},
   "outputs": [
    {
     "name": "stdout",
     "output_type": "stream",
     "text": [
      "[['Dec 10', 20, True], ['Dec 11', 22, True], ['Dec 12', 21, True], ['Dec 13', 19, False], ['Dec 14', 13, False], ['Dec 15', 21, True]]\n"
     ]
    }
   ],
   "source": [
    "print(dec_temperatures_mood)"
   ]
  },
  {
   "cell_type": "code",
   "execution_count": 18,
   "id": "5912bad3",
   "metadata": {},
   "outputs": [
    {
     "data": {
      "text/plain": [
       "['Dec 11', 22, True]"
      ]
     },
     "execution_count": 18,
     "metadata": {},
     "output_type": "execute_result"
    }
   ],
   "source": [
    "dec_temperatures_mood[1]"
   ]
  },
  {
   "cell_type": "code",
   "execution_count": null,
   "id": "38dc74a1",
   "metadata": {},
   "outputs": [],
   "source": []
  }
 ],
 "metadata": {
  "kernelspec": {
   "display_name": "Python 3 (ipykernel)",
   "language": "python",
   "name": "python3"
  },
  "language_info": {
   "codemirror_mode": {
    "name": "ipython",
    "version": 3
   },
   "file_extension": ".py",
   "mimetype": "text/x-python",
   "name": "python",
   "nbconvert_exporter": "python",
   "pygments_lexer": "ipython3",
   "version": "3.10.9"
  }
 },
 "nbformat": 4,
 "nbformat_minor": 5
}
