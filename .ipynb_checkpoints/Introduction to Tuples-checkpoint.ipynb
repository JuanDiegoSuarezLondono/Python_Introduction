{
 "cells": [
  {
   "cell_type": "markdown",
   "id": "b0156c35",
   "metadata": {},
   "source": [
    "# Outline\n",
    "- Tuple vs. List\n",
    "- Creating tuples\n",
    "- Unpacking tuples"
   ]
  },
  {
   "cell_type": "markdown",
   "id": "9494935c",
   "metadata": {},
   "source": [
    "## Tuples vs. List\n",
    "- Both:\n",
    "    - Contain different data types\n",
    "    - Can be indexed\n",
    "- List\n",
    "    - Mutable: Can add, delete, or replace elements\n",
    "    - Square brackets\n",
    "- Tuples\n",
    "    - Immutable: Cannot be modified\n",
    "    - Parentheses"
   ]
  },
  {
   "cell_type": "markdown",
   "id": "c02cf33e",
   "metadata": {},
   "source": [
    "## Creating tuples "
   ]
  },
  {
   "cell_type": "code",
   "execution_count": 3,
   "id": "c1018fe2",
   "metadata": {},
   "outputs": [],
   "source": [
    "# Tuple example\n",
    "et_characters = ('et', 'gertie', 'elliot', 'michael', 'mary')"
   ]
  },
  {
   "cell_type": "markdown",
   "id": "4b624671",
   "metadata": {},
   "source": [
    "## Unpacking tuples "
   ]
  },
  {
   "cell_type": "code",
   "execution_count": 4,
   "id": "dd2e6a29",
   "metadata": {},
   "outputs": [],
   "source": [
    "# Unpack the et_characters tuple\n",
    "patricia, drew, henry, robert, dee = et_characters"
   ]
  },
  {
   "cell_type": "code",
   "execution_count": 5,
   "id": "3ba1af5c",
   "metadata": {},
   "outputs": [
    {
     "name": "stdout",
     "output_type": "stream",
     "text": [
      "gertie\n"
     ]
    }
   ],
   "source": [
    "print(drew)"
   ]
  },
  {
   "cell_type": "code",
   "execution_count": 6,
   "id": "a7515947",
   "metadata": {},
   "outputs": [
    {
     "name": "stdout",
     "output_type": "stream",
     "text": [
      "michael\n"
     ]
    }
   ],
   "source": [
    "print(robert)"
   ]
  },
  {
   "cell_type": "code",
   "execution_count": null,
   "id": "97ef4e79",
   "metadata": {},
   "outputs": [],
   "source": []
  }
 ],
 "metadata": {
  "kernelspec": {
   "display_name": "Python 3 (ipykernel)",
   "language": "python",
   "name": "python3"
  },
  "language_info": {
   "codemirror_mode": {
    "name": "ipython",
    "version": 3
   },
   "file_extension": ".py",
   "mimetype": "text/x-python",
   "name": "python",
   "nbconvert_exporter": "python",
   "pygments_lexer": "ipython3",
   "version": "3.10.9"
  }
 },
 "nbformat": 4,
 "nbformat_minor": 5
}
