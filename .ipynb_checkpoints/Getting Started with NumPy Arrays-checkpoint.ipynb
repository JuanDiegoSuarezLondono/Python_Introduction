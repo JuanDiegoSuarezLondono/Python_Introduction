{
 "cells": [
  {
   "cell_type": "markdown",
   "id": "3a714a39",
   "metadata": {},
   "source": [
    "# Outline\n",
    "- What is NumPy?\n",
    "- What is a NumPy array?\n",
    "- Creating a NumPy array\n",
    "- Performing calculations on NumPy arrays"
   ]
  },
  {
   "cell_type": "markdown",
   "id": "1626f781",
   "metadata": {},
   "source": [
    "## What is Numpy\n",
    "- Stands for numeric python\n",
    "- Includes the data type array\n",
    "- Sophisticated functions\n",
    "- Linear algebra and random number capabilities"
   ]
  },
  {
   "cell_type": "markdown",
   "id": "1598437c",
   "metadata": {},
   "source": [
    "## What is a NumPy array? "
   ]
  },
  {
   "cell_type": "code",
   "execution_count": 4,
   "id": "15bec3ae",
   "metadata": {},
   "outputs": [],
   "source": [
    "# List of masses\n",
    "mass = [12,20,32]"
   ]
  },
  {
   "cell_type": "code",
   "execution_count": 5,
   "id": "2b321c71",
   "metadata": {},
   "outputs": [],
   "source": [
    "# List of volumes\n",
    "volume = [36,18,10]"
   ]
  },
  {
   "cell_type": "code",
   "execution_count": 7,
   "id": "be4e0d17",
   "metadata": {},
   "outputs": [
    {
     "ename": "TypeError",
     "evalue": "unsupported operand type(s) for /: 'list' and 'list'",
     "output_type": "error",
     "traceback": [
      "\u001b[1;31m---------------------------------------------------------------------------\u001b[0m",
      "\u001b[1;31mTypeError\u001b[0m                                 Traceback (most recent call last)",
      "Cell \u001b[1;32mIn[7], line 1\u001b[0m\n\u001b[1;32m----> 1\u001b[0m \u001b[43mmass\u001b[49m\u001b[38;5;241;43m/\u001b[39;49m\u001b[43mvolume\u001b[49m\n",
      "\u001b[1;31mTypeError\u001b[0m: unsupported operand type(s) for /: 'list' and 'list'"
     ]
    }
   ],
   "source": [
    "mass/volume"
   ]
  },
  {
   "cell_type": "markdown",
   "id": "33d2a4fd",
   "metadata": {},
   "source": [
    "## Creating a NumPy array "
   ]
  },
  {
   "cell_type": "code",
   "execution_count": 8,
   "id": "d69833a0",
   "metadata": {},
   "outputs": [],
   "source": [
    "#import numpy aliased a np\n",
    "import numpy as np"
   ]
  },
  {
   "cell_type": "code",
   "execution_count": 9,
   "id": "d4cea99f",
   "metadata": {},
   "outputs": [],
   "source": [
    "#create a mass array\n",
    "mass_array = np.array(mass)"
   ]
  },
  {
   "cell_type": "code",
   "execution_count": 11,
   "id": "1bc67d4c",
   "metadata": {},
   "outputs": [],
   "source": [
    "#create a volume array\n",
    "volume_array = np.array(volume)"
   ]
  },
  {
   "cell_type": "markdown",
   "id": "0d27c1db",
   "metadata": {},
   "source": [
    "## Performing calculations on NumPy arrays"
   ]
  },
  {
   "cell_type": "code",
   "execution_count": 12,
   "id": "e63bd58f",
   "metadata": {},
   "outputs": [],
   "source": [
    "#Find the densities\n",
    "density = mass_array/volume_array"
   ]
  },
  {
   "cell_type": "code",
   "execution_count": 13,
   "id": "de95b736",
   "metadata": {
    "scrolled": true
   },
   "outputs": [
    {
     "name": "stdout",
     "output_type": "stream",
     "text": [
      "[0.33333333 1.11111111 3.2       ]\n"
     ]
    }
   ],
   "source": [
    "print(density)"
   ]
  },
  {
   "cell_type": "markdown",
   "id": "ad7e6e6d",
   "metadata": {},
   "source": [
    "## Numpy array notes\n",
    "- Can only contain 1 data type\n",
    "- Can index, subset, slice, use comparasion operators the same way as a list\n",
    "- Can hace more than 1 dumension"
   ]
  },
  {
   "cell_type": "code",
   "execution_count": null,
   "id": "cddbe5b0",
   "metadata": {},
   "outputs": [],
   "source": []
  }
 ],
 "metadata": {
  "kernelspec": {
   "display_name": "Python 3 (ipykernel)",
   "language": "python",
   "name": "python3"
  },
  "language_info": {
   "codemirror_mode": {
    "name": "ipython",
    "version": 3
   },
   "file_extension": ".py",
   "mimetype": "text/x-python",
   "name": "python",
   "nbconvert_exporter": "python",
   "pygments_lexer": "ipython3",
   "version": "3.10.9"
  }
 },
 "nbformat": 4,
 "nbformat_minor": 5
}
