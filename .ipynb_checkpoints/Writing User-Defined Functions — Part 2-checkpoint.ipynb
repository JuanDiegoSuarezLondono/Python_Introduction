{
 "cells": [
  {
   "cell_type": "markdown",
   "id": "ce913ec3",
   "metadata": {},
   "source": [
    "# Outline\n",
    "- Writing a more flexible function\n",
    "- Writing functions with multiple parameters"
   ]
  },
  {
   "cell_type": "markdown",
   "id": "9d709777",
   "metadata": {},
   "source": [
    "## Writing a more flexible function "
   ]
  },
  {
   "cell_type": "code",
   "execution_count": 1,
   "id": "df3086d3",
   "metadata": {},
   "outputs": [],
   "source": [
    "def hello_world():\n",
    "    \"\"\"Prints out Hello, World!\"\"\"\n",
    "    x = \"Hello, \" + \"World!\"\n",
    "    print(x)"
   ]
  },
  {
   "cell_type": "code",
   "execution_count": 2,
   "id": "1540642d",
   "metadata": {},
   "outputs": [],
   "source": [
    "def hello_name(name):\n",
    "    x = \"Hello, \" + name\n",
    "    print(x)"
   ]
  },
  {
   "cell_type": "code",
   "execution_count": 3,
   "id": "b39bd5ad",
   "metadata": {},
   "outputs": [
    {
     "name": "stdout",
     "output_type": "stream",
     "text": [
      "Hello, Juan\n"
     ]
    }
   ],
   "source": [
    "hello_name('Juan')"
   ]
  },
  {
   "cell_type": "markdown",
   "id": "23635bf7",
   "metadata": {},
   "source": [
    "## Writing functions with multiple parameters "
   ]
  },
  {
   "cell_type": "code",
   "execution_count": 4,
   "id": "3c68862e",
   "metadata": {},
   "outputs": [],
   "source": [
    "def greeting(greeting, name):\n",
    "    x = greeting + name\n",
    "    print(x)"
   ]
  },
  {
   "cell_type": "code",
   "execution_count": 6,
   "id": "d92f720e",
   "metadata": {},
   "outputs": [
    {
     "name": "stdout",
     "output_type": "stream",
     "text": [
      "Hola bola mora\n"
     ]
    }
   ],
   "source": [
    "greeting(\"Hola bola \",\"mora\")"
   ]
  },
  {
   "cell_type": "code",
   "execution_count": 7,
   "id": "2c099ef5",
   "metadata": {},
   "outputs": [
    {
     "name": "stdout",
     "output_type": "stream",
     "text": [
      "Estoy loco por tu amorSusana\n"
     ]
    }
   ],
   "source": [
    "greeting(name = 'Susana', greeting = 'Estoy loco por tu amor')"
   ]
  },
  {
   "cell_type": "code",
   "execution_count": 8,
   "id": "1261ad5f",
   "metadata": {},
   "outputs": [
    {
     "ename": "TypeError",
     "evalue": "can only concatenate str (not \"int\") to str",
     "output_type": "error",
     "traceback": [
      "\u001b[1;31m---------------------------------------------------------------------------\u001b[0m",
      "\u001b[1;31mTypeError\u001b[0m                                 Traceback (most recent call last)",
      "Cell \u001b[1;32mIn[8], line 1\u001b[0m\n\u001b[1;32m----> 1\u001b[0m \u001b[43mgreeting\u001b[49m\u001b[43m(\u001b[49m\u001b[38;5;124;43m\"\u001b[39;49m\u001b[38;5;124;43mYou shall not pass \u001b[39;49m\u001b[38;5;124;43m\"\u001b[39;49m\u001b[43m,\u001b[49m\u001b[38;5;241;43m5\u001b[39;49m\u001b[43m)\u001b[49m\n",
      "Cell \u001b[1;32mIn[4], line 2\u001b[0m, in \u001b[0;36mgreeting\u001b[1;34m(greeting, name)\u001b[0m\n\u001b[0;32m      1\u001b[0m \u001b[38;5;28;01mdef\u001b[39;00m \u001b[38;5;21mgreeting\u001b[39m(greeting, name):\n\u001b[1;32m----> 2\u001b[0m     x \u001b[38;5;241m=\u001b[39m \u001b[43mgreeting\u001b[49m\u001b[43m \u001b[49m\u001b[38;5;241;43m+\u001b[39;49m\u001b[43m \u001b[49m\u001b[43mname\u001b[49m\n\u001b[0;32m      3\u001b[0m     \u001b[38;5;28mprint\u001b[39m(x)\n",
      "\u001b[1;31mTypeError\u001b[0m: can only concatenate str (not \"int\") to str"
     ]
    }
   ],
   "source": [
    "greeting(\"You shall not pass \",5)"
   ]
  },
  {
   "cell_type": "code",
   "execution_count": null,
   "id": "0c77b109",
   "metadata": {},
   "outputs": [],
   "source": []
  }
 ],
 "metadata": {
  "kernelspec": {
   "display_name": "Python 3 (ipykernel)",
   "language": "python",
   "name": "python3"
  },
  "language_info": {
   "codemirror_mode": {
    "name": "ipython",
    "version": 3
   },
   "file_extension": ".py",
   "mimetype": "text/x-python",
   "name": "python",
   "nbconvert_exporter": "python",
   "pygments_lexer": "ipython3",
   "version": "3.10.9"
  }
 },
 "nbformat": 4,
 "nbformat_minor": 5
}
