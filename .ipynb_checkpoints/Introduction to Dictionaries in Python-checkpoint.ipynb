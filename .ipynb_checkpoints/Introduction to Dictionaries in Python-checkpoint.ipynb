{
 "cells": [
  {
   "cell_type": "markdown",
   "id": "0f260c7e",
   "metadata": {},
   "source": [
    "# Outline\n",
    "- What is a dictionary?\n",
    "- Dictionaries vs. List\n",
    "- Creating a dictionary\n",
    "- Retrieving information from a dictionary"
   ]
  },
  {
   "cell_type": "markdown",
   "id": "b83a6dbe",
   "metadata": {},
   "source": [
    "## What is a dictionary?\n",
    "- Maps a set of objects to another set of objects\n",
    "- Key-value pairs"
   ]
  },
  {
   "cell_type": "markdown",
   "id": "031a66e0",
   "metadata": {},
   "source": [
    "## Dictionaries vs. List "
   ]
  },
  {
   "cell_type": "code",
   "execution_count": 2,
   "id": "7f318d97",
   "metadata": {},
   "outputs": [],
   "source": [
    "#List of dates\n",
    "dates = [\"Dec 10\", \"Dec 11\", \"Dec 12\", \"Dec 13\", \"Dec 14\", \"Dec 15\"]"
   ]
  },
  {
   "cell_type": "code",
   "execution_count": 3,
   "id": "d4dcfa2e",
   "metadata": {},
   "outputs": [],
   "source": [
    "#List of temperatures\n",
    "temperatures = [20,22,21,19,13,21]"
   ]
  },
  {
   "cell_type": "code",
   "execution_count": 5,
   "id": "5da53c75",
   "metadata": {},
   "outputs": [
    {
     "data": {
      "text/plain": [
       "4"
      ]
     },
     "execution_count": 5,
     "metadata": {},
     "output_type": "execute_result"
    }
   ],
   "source": [
    "#Find the index of Dec 14 with the .index method\n",
    "dates.index('Dec 14')"
   ]
  },
  {
   "cell_type": "code",
   "execution_count": 8,
   "id": "f42ba10c",
   "metadata": {},
   "outputs": [
    {
     "data": {
      "text/plain": [
       "13"
      ]
     },
     "execution_count": 8,
     "metadata": {},
     "output_type": "execute_result"
    }
   ],
   "source": [
    "#Find the temperature with that index in the temperatures list\n",
    "temperatures[4]"
   ]
  },
  {
   "cell_type": "code",
   "execution_count": null,
   "id": "11076ac6",
   "metadata": {},
   "outputs": [],
   "source": [
    "#List of dates and temperatures\n",
    "dec_temperatures = [\"Dec 10\", 20, \"Dec 11\", 22, \"Dec 12\", 21, \"Dec 13\", 19, \"Dec 14\", 13, \"Dec 15\", 21]"
   ]
  },
  {
   "cell_type": "code",
   "execution_count": 9,
   "id": "acbfcf1b",
   "metadata": {},
   "outputs": [],
   "source": [
    "#List of list of dates and temperatures\n",
    "dec_temperatures = [[\"Dec 10\", 20], [\"Dec 11\", 22], [\"Dec 12\", 21], [\"Dec 13\", 19], [\"Dec 14\", 13], [\"Dec 15\", 21]]"
   ]
  },
  {
   "cell_type": "code",
   "execution_count": 10,
   "id": "19b383be",
   "metadata": {},
   "outputs": [
    {
     "name": "stdout",
     "output_type": "stream",
     "text": [
      "[['Dec 10', 20], ['Dec 11', 22], ['Dec 12', 21], ['Dec 13', 19], ['Dec 14', 13], ['Dec 15', 21]]\n"
     ]
    }
   ],
   "source": [
    "print(dec_temperatures)"
   ]
  },
  {
   "cell_type": "markdown",
   "id": "f08d71a7",
   "metadata": {},
   "source": [
    "## Creating a dictionary "
   ]
  },
  {
   "cell_type": "code",
   "execution_count": 11,
   "id": "148edca0",
   "metadata": {},
   "outputs": [],
   "source": [
    "dec_temps = {\n",
    "    \"Dec 10\":20,\n",
    "    \"Dec 11\":22,\n",
    "    \"Dec 12\":21,\n",
    "    \"Dec 13\":19,\n",
    "    \"Dec 14\":13,\n",
    "    \"Dec 15\":21\n",
    "}"
   ]
  },
  {
   "cell_type": "markdown",
   "id": "e83dae9e",
   "metadata": {},
   "source": [
    "## Retrieving data from a dictionary"
   ]
  },
  {
   "cell_type": "code",
   "execution_count": 14,
   "id": "04c3fd2a",
   "metadata": {},
   "outputs": [
    {
     "data": {
      "text/plain": [
       "13"
      ]
     },
     "execution_count": 14,
     "metadata": {},
     "output_type": "execute_result"
    }
   ],
   "source": [
    "# Dictionarty name with the key in square brackets\n",
    "dec_temps[\"Dec 14\"]"
   ]
  },
  {
   "cell_type": "code",
   "execution_count": null,
   "id": "603f1d14",
   "metadata": {},
   "outputs": [],
   "source": []
  }
 ],
 "metadata": {
  "kernelspec": {
   "display_name": "Python 3 (ipykernel)",
   "language": "python",
   "name": "python3"
  },
  "language_info": {
   "codemirror_mode": {
    "name": "ipython",
    "version": 3
   },
   "file_extension": ".py",
   "mimetype": "text/x-python",
   "name": "python",
   "nbconvert_exporter": "python",
   "pygments_lexer": "ipython3",
   "version": "3.10.9"
  }
 },
 "nbformat": 4,
 "nbformat_minor": 5
}
