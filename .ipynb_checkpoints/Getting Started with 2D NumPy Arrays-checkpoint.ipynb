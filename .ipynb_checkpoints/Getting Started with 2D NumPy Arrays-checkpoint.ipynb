{
 "cells": [
  {
   "cell_type": "markdown",
   "id": "0d3b321e",
   "metadata": {},
   "source": [
    "# Outline\n",
    "- Creating a 2D NumPy Array\n",
    "- Seeing the \"shape\" of NumPy Array\n",
    "- Subsetting 2 2D NumPy Array"
   ]
  },
  {
   "cell_type": "markdown",
   "id": "a8b4868f",
   "metadata": {},
   "source": [
    "## Creating a 2D NumPy Array "
   ]
  },
  {
   "cell_type": "code",
   "execution_count": 1,
   "id": "f5bcb5d5",
   "metadata": {},
   "outputs": [],
   "source": [
    "import numpy as np"
   ]
  },
  {
   "cell_type": "code",
   "execution_count": null,
   "id": "504a815b",
   "metadata": {},
   "outputs": [],
   "source": [
    "# List of masses\n",
    "mass = [12,20,32]"
   ]
  },
  {
   "cell_type": "code",
   "execution_count": 3,
   "id": "9ab2d223",
   "metadata": {},
   "outputs": [],
   "source": [
    "#List of volumes\n",
    "volume = [36,18,10]"
   ]
  },
  {
   "cell_type": "code",
   "execution_count": 9,
   "id": "2c4687a1",
   "metadata": {},
   "outputs": [],
   "source": [
    "#Create a list of lists\n",
    "massvolume = [[12,20,32],[36,18,10]]"
   ]
  },
  {
   "cell_type": "code",
   "execution_count": 10,
   "id": "fc36598a",
   "metadata": {},
   "outputs": [],
   "source": [
    "#Create a 2D NumPy array from a list of list\n",
    "massvolume_array = np.array(massvolume)"
   ]
  },
  {
   "cell_type": "code",
   "execution_count": 11,
   "id": "1bb783ca",
   "metadata": {},
   "outputs": [
    {
     "data": {
      "text/plain": [
       "numpy.ndarray"
      ]
     },
     "execution_count": 11,
     "metadata": {},
     "output_type": "execute_result"
    }
   ],
   "source": [
    "type(massvolume_array)"
   ]
  },
  {
   "cell_type": "code",
   "execution_count": 18,
   "id": "c07518ee",
   "metadata": {},
   "outputs": [
    {
     "name": "stdout",
     "output_type": "stream",
     "text": [
      "[[12 20 32]\n",
      " [36 18 10]]\n"
     ]
    }
   ],
   "source": [
    "print(massvolume_array)"
   ]
  },
  {
   "cell_type": "markdown",
   "id": "da545da0",
   "metadata": {},
   "source": [
    "## Seeing the shape of NumPy array "
   ]
  },
  {
   "cell_type": "code",
   "execution_count": 13,
   "id": "0d9647a8",
   "metadata": {},
   "outputs": [
    {
     "data": {
      "text/plain": [
       "(2, 3)"
      ]
     },
     "execution_count": 13,
     "metadata": {},
     "output_type": "execute_result"
    }
   ],
   "source": [
    "#See how many rows and columns there are\n",
    "massvolume_array.shape"
   ]
  },
  {
   "cell_type": "markdown",
   "id": "4081740f",
   "metadata": {},
   "source": [
    "## Subsetting a 2D NumPy array "
   ]
  },
  {
   "cell_type": "code",
   "execution_count": 20,
   "id": "5bf15d7e",
   "metadata": {},
   "outputs": [
    {
     "data": {
      "text/plain": [
       "10"
      ]
     },
     "execution_count": 20,
     "metadata": {},
     "output_type": "execute_result"
    }
   ],
   "source": [
    "#Row \"1\" = 2 and Column \"2\" = 3\n",
    "massvolume_array[1,2]"
   ]
  },
  {
   "cell_type": "code",
   "execution_count": 17,
   "id": "c6c2c449",
   "metadata": {},
   "outputs": [
    {
     "data": {
      "text/plain": [
       "array([12, 20, 32])"
      ]
     },
     "execution_count": 17,
     "metadata": {},
     "output_type": "execute_result"
    }
   ],
   "source": [
    "massvolume_array[0]"
   ]
  },
  {
   "cell_type": "code",
   "execution_count": 23,
   "id": "286042e4",
   "metadata": {},
   "outputs": [
    {
     "data": {
      "text/plain": [
       "array([[20, 32]])"
      ]
     },
     "execution_count": 23,
     "metadata": {},
     "output_type": "execute_result"
    }
   ],
   "source": [
    "massvolume_array[0:1, 1:3]"
   ]
  },
  {
   "cell_type": "code",
   "execution_count": null,
   "id": "fd93618d",
   "metadata": {},
   "outputs": [],
   "source": []
  }
 ],
 "metadata": {
  "kernelspec": {
   "display_name": "Python 3 (ipykernel)",
   "language": "python",
   "name": "python3"
  },
  "language_info": {
   "codemirror_mode": {
    "name": "ipython",
    "version": 3
   },
   "file_extension": ".py",
   "mimetype": "text/x-python",
   "name": "python",
   "nbconvert_exporter": "python",
   "pygments_lexer": "ipython3",
   "version": "3.10.9"
  }
 },
 "nbformat": 4,
 "nbformat_minor": 5
}
