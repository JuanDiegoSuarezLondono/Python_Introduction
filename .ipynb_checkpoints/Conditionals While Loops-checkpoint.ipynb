{
 "cells": [
  {
   "cell_type": "markdown",
   "id": "61fc3312",
   "metadata": {},
   "source": [
    "# Outline\n",
    "- If vs. While\n",
    "- While loop syntax\n",
    "- Correctly addigning the variable\n",
    "- Using while in a function"
   ]
  },
  {
   "cell_type": "markdown",
   "id": "be5bba1c",
   "metadata": {},
   "source": [
    "## If vs. While "
   ]
  },
  {
   "cell_type": "markdown",
   "id": "3124fd57",
   "metadata": {},
   "source": [
    "### If \n",
    "- If, elif else run in ordence **once**\n",
    "- Use this if your code doesn't change the data"
   ]
  },
  {
   "cell_type": "markdown",
   "id": "cf45b388",
   "metadata": {},
   "source": [
    "### While\n",
    "- While loops **as long as the condition is still true**\n",
    "- Use this if your code change your data"
   ]
  },
  {
   "cell_type": "markdown",
   "id": "471193ed",
   "metadata": {},
   "source": [
    "## While loop syntax "
   ]
  },
  {
   "cell_type": "code",
   "execution_count": 1,
   "id": "704bab13",
   "metadata": {},
   "outputs": [],
   "source": [
    "x = 2"
   ]
  },
  {
   "cell_type": "code",
   "execution_count": 2,
   "id": "eafa0c06",
   "metadata": {},
   "outputs": [
    {
     "name": "stdout",
     "output_type": "stream",
     "text": [
      "20\n",
      "200\n",
      "2000\n"
     ]
    }
   ],
   "source": [
    "while x < 1000:\n",
    "    x = x*10\n",
    "    print(x)"
   ]
  },
  {
   "cell_type": "markdown",
   "id": "9019e1b5",
   "metadata": {},
   "source": [
    "## Correctly assigning the variable "
   ]
  },
  {
   "cell_type": "code",
   "execution_count": 3,
   "id": "0a53a881",
   "metadata": {},
   "outputs": [
    {
     "name": "stdout",
     "output_type": "stream",
     "text": [
      "150\n",
      "1500\n"
     ]
    }
   ],
   "source": [
    "y = 15\n",
    "\n",
    "while y < 1000:\n",
    "    y = y*10\n",
    "    print(y)"
   ]
  },
  {
   "cell_type": "markdown",
   "id": "3510c72a",
   "metadata": {},
   "source": [
    "## Using while in a function "
   ]
  },
  {
   "cell_type": "code",
   "execution_count": 4,
   "id": "9f0f021d",
   "metadata": {},
   "outputs": [],
   "source": [
    "def substract_one(x):\n",
    "    while x > 2:\n",
    "        x = x -1\n",
    "        print(x)"
   ]
  },
  {
   "cell_type": "code",
   "execution_count": 7,
   "id": "f0e5827b",
   "metadata": {},
   "outputs": [],
   "source": [
    "substract_one(2)"
   ]
  },
  {
   "cell_type": "code",
   "execution_count": 10,
   "id": "995190bc",
   "metadata": {},
   "outputs": [
    {
     "name": "stdout",
     "output_type": "stream",
     "text": [
      "5\n",
      "4\n",
      "3\n",
      "2\n"
     ]
    }
   ],
   "source": [
    "substract_one(6)"
   ]
  },
  {
   "cell_type": "markdown",
   "id": "6fcecff7",
   "metadata": {},
   "source": [
    "## Using while with else"
   ]
  },
  {
   "cell_type": "code",
   "execution_count": 50,
   "id": "e565257b",
   "metadata": {},
   "outputs": [],
   "source": [
    "def substract_one(x):\n",
    "    while x > 2:\n",
    "        x = x - 1\n",
    "        print(x)\n",
    "    else:\n",
    "        print('X is no longer greater than 2!')"
   ]
  },
  {
   "cell_type": "code",
   "execution_count": 51,
   "id": "fcc942b0",
   "metadata": {},
   "outputs": [
    {
     "name": "stdout",
     "output_type": "stream",
     "text": [
      "X is no longer greater than 2!\n"
     ]
    }
   ],
   "source": [
    "substract_one(1)"
   ]
  },
  {
   "cell_type": "code",
   "execution_count": 52,
   "id": "2b6a0a32",
   "metadata": {},
   "outputs": [
    {
     "name": "stdout",
     "output_type": "stream",
     "text": [
      "4\n",
      "3\n",
      "2\n",
      "X is no longer greater than 2!\n"
     ]
    }
   ],
   "source": [
    "substract_one(5)"
   ]
  },
  {
   "cell_type": "code",
   "execution_count": null,
   "id": "94213b49",
   "metadata": {},
   "outputs": [],
   "source": []
  }
 ],
 "metadata": {
  "kernelspec": {
   "display_name": "Python 3 (ipykernel)",
   "language": "python",
   "name": "python3"
  },
  "language_info": {
   "codemirror_mode": {
    "name": "ipython",
    "version": 3
   },
   "file_extension": ".py",
   "mimetype": "text/x-python",
   "name": "python",
   "nbconvert_exporter": "python",
   "pygments_lexer": "ipython3",
   "version": "3.10.9"
  }
 },
 "nbformat": 4,
 "nbformat_minor": 5
}
