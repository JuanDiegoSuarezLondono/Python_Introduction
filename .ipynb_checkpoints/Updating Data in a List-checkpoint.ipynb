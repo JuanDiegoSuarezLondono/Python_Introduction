{
 "cells": [
  {
   "cell_type": "markdown",
   "id": "e3e40e70",
   "metadata": {},
   "source": [
    "# Outline\n",
    "- Adding data to a list\n",
    "- Deeting data from a list\n",
    "- Replacing data in a list"
   ]
  },
  {
   "cell_type": "markdown",
   "id": "3bab0082",
   "metadata": {},
   "source": [
    "## Adding data to a list "
   ]
  },
  {
   "cell_type": "code",
   "execution_count": 1,
   "id": "82109f0d",
   "metadata": {},
   "outputs": [],
   "source": [
    "# List of list wich include the data, temperature, and whether you were in a positive mood\n",
    "dec_temperatures_mood = [[\"Dec 10\", 20, True], [\"Dec 11\", 22, True], [\"Dec 12\", 21, True],[\"Dec 13\", 19, False],[\"Dec 14\",13, False],[\"Dec 15\", 21, True]]"
   ]
  },
  {
   "cell_type": "code",
   "execution_count": 7,
   "id": "9616d213",
   "metadata": {},
   "outputs": [
    {
     "data": {
      "text/plain": [
       "[['Dec 10', 20, True],\n",
       " ['Dec 11', 22, True],\n",
       " ['Dec 12', 21, True],\n",
       " ['Dec 13', 19, False],\n",
       " ['Dec 14', 13, False],\n",
       " ['Dec 15', 21, True],\n",
       " ['Dec 16', 18, False]]"
      ]
     },
     "execution_count": 7,
     "metadata": {},
     "output_type": "execute_result"
    }
   ],
   "source": [
    "#Add data to the list\n",
    "dec_temperatures_mood + [['Dec 16', 18, False]]"
   ]
  },
  {
   "cell_type": "code",
   "execution_count": 8,
   "id": "c13b053c",
   "metadata": {},
   "outputs": [
    {
     "data": {
      "text/plain": [
       "[['Dec 10', 20, True],\n",
       " ['Dec 11', 22, True],\n",
       " ['Dec 12', 21, True],\n",
       " ['Dec 13', 19, False],\n",
       " ['Dec 14', 13, False],\n",
       " ['Dec 15', 21, True],\n",
       " 'Dec 16',\n",
       " 18,\n",
       " False]"
      ]
     },
     "execution_count": 8,
     "metadata": {},
     "output_type": "execute_result"
    }
   ],
   "source": [
    "# Notice that above we used [[]] because were were adding a list\n",
    "# data type to the list.\n",
    "# What if we just used single brackets? What do you think would happend?\n",
    "dec_temperatures_mood + ['Dec 16', 18, False]"
   ]
  },
  {
   "cell_type": "code",
   "execution_count": 9,
   "id": "803e304f",
   "metadata": {},
   "outputs": [
    {
     "name": "stdout",
     "output_type": "stream",
     "text": [
      "[['Dec 10', 20, True], ['Dec 11', 22, True], ['Dec 12', 21, True], ['Dec 13', 19, False], ['Dec 14', 13, False], ['Dec 15', 21, True]]\n"
     ]
    }
   ],
   "source": [
    "print(dec_temperatures_mood)"
   ]
  },
  {
   "cell_type": "code",
   "execution_count": 10,
   "id": "7280b684",
   "metadata": {},
   "outputs": [],
   "source": [
    "# Save the list with the updated data\n",
    "dec_temperatures_mood = dec_temperatures_mood + [['Dec 16', 18, False]]"
   ]
  },
  {
   "cell_type": "code",
   "execution_count": 11,
   "id": "3532698e",
   "metadata": {
    "scrolled": true
   },
   "outputs": [
    {
     "name": "stdout",
     "output_type": "stream",
     "text": [
      "[['Dec 10', 20, True], ['Dec 11', 22, True], ['Dec 12', 21, True], ['Dec 13', 19, False], ['Dec 14', 13, False], ['Dec 15', 21, True], ['Dec 16', 18, False]]\n"
     ]
    }
   ],
   "source": [
    "#Print the new list to confirm that the data was added\n",
    "print(dec_temperatures_mood)"
   ]
  },
  {
   "cell_type": "markdown",
   "id": "79006ea7",
   "metadata": {},
   "source": [
    "## Deleting data from a list "
   ]
  },
  {
   "cell_type": "code",
   "execution_count": 13,
   "id": "f0d49329",
   "metadata": {},
   "outputs": [
    {
     "name": "stdout",
     "output_type": "stream",
     "text": [
      "[['Dec 10', 20, True], ['Dec 11', 22, True], ['Dec 12', 21, True], ['Dec 13', 19, False], ['Dec 14', 13, False], ['Dec 15', 21, True]]\n"
     ]
    }
   ],
   "source": [
    "# Delete the last element\n",
    "del(dec_temperatures_mood[-1])\n",
    "print(dec_temperatures_mood)"
   ]
  },
  {
   "cell_type": "code",
   "execution_count": 15,
   "id": "9835dfbc",
   "metadata": {},
   "outputs": [
    {
     "name": "stdout",
     "output_type": "stream",
     "text": [
      "[['Dec 10', 20, True], ['Dec 11', 22, True], ['Dec 12', 21, True], ['Dec 13', 19, False], ['Dec 14', 13, False], ['Dec 15', 21, True], 'Dec 16', 18, True, 'Dec 16', 18, True]\n"
     ]
    }
   ],
   "source": [
    "# Replace it whit ['Dec 16', 18, True]\n",
    "dec_temperatures_mood = dec_temperatures_mood + ['Dec 16', 18, True]\n",
    "print(dec_temperatures_mood)"
   ]
  },
  {
   "cell_type": "markdown",
   "id": "42195ec7",
   "metadata": {},
   "source": [
    "## Replacing data in a list "
   ]
  },
  {
   "cell_type": "code",
   "execution_count": 18,
   "id": "136239e3",
   "metadata": {},
   "outputs": [],
   "source": [
    "#Instead of deeting and replacing, update with subsetting\n",
    "dec_temperatures_mood[-1] = ['Dec 16', 18, True]"
   ]
  },
  {
   "cell_type": "code",
   "execution_count": 19,
   "id": "8cf996d6",
   "metadata": {},
   "outputs": [
    {
     "name": "stdout",
     "output_type": "stream",
     "text": [
      "[['Dec 10', 20, True], ['Dec 11', 22, True], ['Dec 12', 21, True], ['Dec 13', 19, False], ['Dec 14', 13, False], ['Dec 15', 21, True], 'Dec 16', 18, True, 'Dec 16', 18, ['Dec 16', 18, True]]\n"
     ]
    }
   ],
   "source": [
    "print(dec_temperatures_mood)"
   ]
  },
  {
   "cell_type": "code",
   "execution_count": null,
   "id": "75d2cf22",
   "metadata": {},
   "outputs": [],
   "source": []
  }
 ],
 "metadata": {
  "kernelspec": {
   "display_name": "Python 3 (ipykernel)",
   "language": "python",
   "name": "python3"
  },
  "language_info": {
   "codemirror_mode": {
    "name": "ipython",
    "version": 3
   },
   "file_extension": ".py",
   "mimetype": "text/x-python",
   "name": "python",
   "nbconvert_exporter": "python",
   "pygments_lexer": "ipython3",
   "version": "3.10.9"
  }
 },
 "nbformat": 4,
 "nbformat_minor": 5
}
