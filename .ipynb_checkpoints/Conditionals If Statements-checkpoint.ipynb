{
 "cells": [
  {
   "cell_type": "markdown",
   "id": "268d434d",
   "metadata": {},
   "source": [
    "# Outline\n",
    "- If\n",
    "- Else\n",
    "- Elif"
   ]
  },
  {
   "cell_type": "markdown",
   "id": "972d3ec2",
   "metadata": {},
   "source": [
    "## If"
   ]
  },
  {
   "cell_type": "code",
   "execution_count": 4,
   "id": "55c0e62e",
   "metadata": {},
   "outputs": [],
   "source": [
    "def score_description(score):\n",
    "    if score > 65:\n",
    "        print('You passed the test!')"
   ]
  },
  {
   "cell_type": "code",
   "execution_count": 2,
   "id": "c04d864a",
   "metadata": {},
   "outputs": [
    {
     "name": "stdout",
     "output_type": "stream",
     "text": [
      "You passed the test!\n"
     ]
    }
   ],
   "source": [
    "score_description(80)"
   ]
  },
  {
   "cell_type": "markdown",
   "id": "1e3392d4",
   "metadata": {},
   "source": [
    "## Else "
   ]
  },
  {
   "cell_type": "code",
   "execution_count": 7,
   "id": "3b6b50a9",
   "metadata": {},
   "outputs": [],
   "source": [
    "def score_description(score):\n",
    "    if score > 65:\n",
    "        print(\"Passed\")\n",
    "    else:\n",
    "        print(\"Not Passed\")"
   ]
  },
  {
   "cell_type": "code",
   "execution_count": 9,
   "id": "14f5a68a",
   "metadata": {},
   "outputs": [
    {
     "name": "stdout",
     "output_type": "stream",
     "text": [
      "Passed\n"
     ]
    }
   ],
   "source": [
    "score_description(80)"
   ]
  },
  {
   "cell_type": "code",
   "execution_count": 8,
   "id": "5e9a15ee",
   "metadata": {},
   "outputs": [
    {
     "name": "stdout",
     "output_type": "stream",
     "text": [
      "Not Passed\n"
     ]
    }
   ],
   "source": [
    "score_description(50)"
   ]
  },
  {
   "cell_type": "markdown",
   "id": "580a5791",
   "metadata": {},
   "source": [
    "## Elif "
   ]
  },
  {
   "cell_type": "code",
   "execution_count": 14,
   "id": "1c50700e",
   "metadata": {},
   "outputs": [],
   "source": [
    "def letter_grade(score):\n",
    "        if score <= 100 and score > 93:\n",
    "            print(\"Excelent\")\n",
    "        elif score <= 93 and score > 83:\n",
    "            print(\"Its ok\")\n",
    "        else:\n",
    "            print(\"Try again dude\")"
   ]
  },
  {
   "cell_type": "code",
   "execution_count": 12,
   "id": "a1d1d2dd",
   "metadata": {},
   "outputs": [
    {
     "name": "stdout",
     "output_type": "stream",
     "text": [
      "Try again dude\n"
     ]
    }
   ],
   "source": [
    "letter_grade(10)"
   ]
  },
  {
   "cell_type": "code",
   "execution_count": 13,
   "id": "a66d0fcf",
   "metadata": {},
   "outputs": [
    {
     "name": "stdout",
     "output_type": "stream",
     "text": [
      "Its ok\n"
     ]
    }
   ],
   "source": [
    "letter_grade(85)"
   ]
  },
  {
   "cell_type": "code",
   "execution_count": 15,
   "id": "78072a6e",
   "metadata": {},
   "outputs": [
    {
     "name": "stdout",
     "output_type": "stream",
     "text": [
      "Excelent\n"
     ]
    }
   ],
   "source": [
    "letter_grade(99)"
   ]
  },
  {
   "cell_type": "markdown",
   "id": "6154e2ea",
   "metadata": {},
   "source": [
    "## Order and Indenting "
   ]
  },
  {
   "cell_type": "code",
   "execution_count": 19,
   "id": "9bc1bbb5",
   "metadata": {},
   "outputs": [],
   "source": [
    "x = 9.5"
   ]
  },
  {
   "cell_type": "code",
   "execution_count": 20,
   "id": "5ed32653",
   "metadata": {},
   "outputs": [
    {
     "name": "stdout",
     "output_type": "stream",
     "text": [
      "11.5\n"
     ]
    }
   ],
   "source": [
    "if x == 9:\n",
    "    print(x+1)\n",
    "elif x < 10:\n",
    "    print(x+2)\n",
    "else:\n",
    "    print(x+3)"
   ]
  },
  {
   "cell_type": "code",
   "execution_count": null,
   "id": "a15b71ca",
   "metadata": {},
   "outputs": [],
   "source": []
  }
 ],
 "metadata": {
  "kernelspec": {
   "display_name": "Python 3 (ipykernel)",
   "language": "python",
   "name": "python3"
  },
  "language_info": {
   "codemirror_mode": {
    "name": "ipython",
    "version": 3
   },
   "file_extension": ".py",
   "mimetype": "text/x-python",
   "name": "python",
   "nbconvert_exporter": "python",
   "pygments_lexer": "ipython3",
   "version": "3.10.9"
  }
 },
 "nbformat": 4,
 "nbformat_minor": 5
}
