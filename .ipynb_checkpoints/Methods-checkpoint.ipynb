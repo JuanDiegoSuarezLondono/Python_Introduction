{
 "cells": [
  {
   "cell_type": "markdown",
   "id": "8dbc45c1",
   "metadata": {},
   "source": [
    "# Outline\n",
    "- What is a method?\n",
    "- Commond methods and method notation for a:\n",
    "    - string\n",
    "    - float\n",
    "    - list"
   ]
  },
  {
   "cell_type": "markdown",
   "id": "257fed26",
   "metadata": {},
   "source": [
    "## What is a method?\n",
    "- Similar to regular functions\n",
    "- Belongs to a specific type"
   ]
  },
  {
   "cell_type": "markdown",
   "id": "cc310cf8",
   "metadata": {},
   "source": [
    "## Commond methods and method notation"
   ]
  },
  {
   "cell_type": "code",
   "execution_count": 5,
   "id": "a0379472",
   "metadata": {},
   "outputs": [
    {
     "data": {
      "text/plain": [
       "'EMMA WATSON'"
      ]
     },
     "execution_count": 5,
     "metadata": {},
     "output_type": "execute_result"
    }
   ],
   "source": [
    "#After the data, write a dot, the function name, followed\n",
    "#by parenthases string methods\n",
    "name = \"emma watson\"\n",
    "\n",
    "#Show name with all uppercase letters\n",
    "name.upper()"
   ]
  },
  {
   "cell_type": "code",
   "execution_count": 7,
   "id": "3f42eaae",
   "metadata": {},
   "outputs": [
    {
     "data": {
      "text/plain": [
       "'Emma watson'"
      ]
     },
     "execution_count": 7,
     "metadata": {},
     "output_type": "execute_result"
    }
   ],
   "source": [
    "#Capitalize just the first letter\n",
    "name.capitalize()"
   ]
  },
  {
   "cell_type": "code",
   "execution_count": 8,
   "id": "e33c6eae",
   "metadata": {},
   "outputs": [
    {
     "data": {
      "text/plain": [
       "'emma roberts'"
      ]
     },
     "execution_count": 8,
     "metadata": {},
     "output_type": "execute_result"
    }
   ],
   "source": [
    "name.replace('watson','roberts')"
   ]
  },
  {
   "cell_type": "code",
   "execution_count": 10,
   "id": "8299f38b",
   "metadata": {},
   "outputs": [
    {
     "data": {
      "text/plain": [
       "1"
      ]
     },
     "execution_count": 10,
     "metadata": {},
     "output_type": "execute_result"
    }
   ],
   "source": [
    "#Find 'm' in the string\n",
    "name.find('m')"
   ]
  },
  {
   "cell_type": "code",
   "execution_count": 12,
   "id": "c620bd0a",
   "metadata": {},
   "outputs": [
    {
     "data": {
      "text/plain": [
       "1"
      ]
     },
     "execution_count": 12,
     "metadata": {},
     "output_type": "execute_result"
    }
   ],
   "source": [
    "#Find 'm' when there are more than one\n",
    "name.replace('roberts','maria')\n",
    "name.find('m')"
   ]
  },
  {
   "cell_type": "code",
   "execution_count": 17,
   "id": "fd579d83",
   "metadata": {},
   "outputs": [
    {
     "data": {
      "text/plain": [
       "5"
      ]
     },
     "execution_count": 17,
     "metadata": {},
     "output_type": "execute_result"
    }
   ],
   "source": [
    "#Find where 'watson' begins\n",
    "name.find('watson')"
   ]
  },
  {
   "cell_type": "code",
   "execution_count": 19,
   "id": "e4b04a89",
   "metadata": {},
   "outputs": [
    {
     "data": {
      "text/plain": [
       "-1"
      ]
     },
     "execution_count": 19,
     "metadata": {},
     "output_type": "execute_result"
    }
   ],
   "source": [
    "#Find where 'pepe' is in \"emma watson\"\n",
    "name.find('pepe')"
   ]
  },
  {
   "cell_type": "code",
   "execution_count": 20,
   "id": "63a2d7c8",
   "metadata": {},
   "outputs": [
    {
     "data": {
      "text/plain": [
       "False"
      ]
     },
     "execution_count": 20,
     "metadata": {},
     "output_type": "execute_result"
    }
   ],
   "source": [
    "#Float methods\n",
    "x = 123.4\n",
    "\n",
    "#Check if x is an integer\n",
    "x.is_integer()"
   ]
  },
  {
   "cell_type": "code",
   "execution_count": 23,
   "id": "48fa1677",
   "metadata": {},
   "outputs": [
    {
     "data": {
      "text/plain": [
       "2"
      ]
     },
     "execution_count": 23,
     "metadata": {},
     "output_type": "execute_result"
    }
   ],
   "source": [
    "#list methods\n",
    "dec_temperatures_mood = [\"Dec 10\", 20, True, \"Dec 11\", 22, True, \"Dec 12\", 20, True, \"Dec 13\", 19, False, \"Dec 14\", 13, True, \"Dec 15\", 21, False]\n",
    "dec_temperatures_mood.count(20)"
   ]
  },
  {
   "cell_type": "code",
   "execution_count": 26,
   "id": "5c00303e",
   "metadata": {},
   "outputs": [
    {
     "name": "stdout",
     "output_type": "stream",
     "text": [
      "['Dec 10', 20, True, 'Dec 11', 22, True, 'Dec 12', 20, True, 'Dec 13', 19, False, 'Dec 14', 13, True, 'Dec 15', 21, False, 'Dec 16', 'Dec 16', 18, True, 'Pepe', 18, True]\n"
     ]
    }
   ],
   "source": [
    "dec_temperatures_mood.append(\"Pepe\")\n",
    "dec_temperatures_mood.append(18)\n",
    "dec_temperatures_mood.append(True)\n",
    "print(dec_temperatures_mood)"
   ]
  },
  {
   "cell_type": "code",
   "execution_count": null,
   "id": "b82db19e",
   "metadata": {},
   "outputs": [],
   "source": []
  }
 ],
 "metadata": {
  "kernelspec": {
   "display_name": "Python 3 (ipykernel)",
   "language": "python",
   "name": "python3"
  },
  "language_info": {
   "codemirror_mode": {
    "name": "ipython",
    "version": 3
   },
   "file_extension": ".py",
   "mimetype": "text/x-python",
   "name": "python",
   "nbconvert_exporter": "python",
   "pygments_lexer": "ipython3",
   "version": "3.10.9"
  }
 },
 "nbformat": 4,
 "nbformat_minor": 5
}
