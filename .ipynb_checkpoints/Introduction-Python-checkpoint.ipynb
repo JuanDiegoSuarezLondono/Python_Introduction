{
 "cells": [
  {
   "cell_type": "markdown",
   "id": "725663cf",
   "metadata": {},
   "source": [
    "# Yes this is a header\n",
    "## And this is a smallest header\n",
    "### And smallest\n",
    "#### And smallest\n",
    "###### Very tiny\n",
    "\n",
    "- A mark that mark a list, this is **bold** and _styled_ "
   ]
  },
  {
   "cell_type": "code",
   "execution_count": null,
   "id": "0f76df36",
   "metadata": {},
   "outputs": [],
   "source": [
    "#For add a cell above pres key = 'A'"
   ]
  },
  {
   "cell_type": "code",
   "execution_count": 6,
   "id": "b74e390c",
   "metadata": {},
   "outputs": [
    {
     "name": "stdout",
     "output_type": "stream",
     "text": [
      "Mi morita\n"
     ]
    }
   ],
   "source": [
    "#To run your code press in command mode key = 'Shift'+'Enter'\n",
    "print('Mi morita')"
   ]
  },
  {
   "cell_type": "code",
   "execution_count": 7,
   "id": "647a514f",
   "metadata": {},
   "outputs": [
    {
     "name": "stdout",
     "output_type": "stream",
     "text": [
      "Tiene cara de bolita <3\n"
     ]
    }
   ],
   "source": [
    "print('Tiene cara de bolita <3')"
   ]
  },
  {
   "cell_type": "code",
   "execution_count": null,
   "id": "95ab9cdc",
   "metadata": {},
   "outputs": [],
   "source": [
    "#For add a cell after pres key = 'B'"
   ]
  },
  {
   "cell_type": "code",
   "execution_count": null,
   "id": "1cd66317",
   "metadata": {},
   "outputs": [],
   "source": [
    "#If you miss click and add some cell that you don't want press key = 'D' twice"
   ]
  },
  {
   "cell_type": "code",
   "execution_count": 8,
   "id": "3cade10a",
   "metadata": {},
   "outputs": [],
   "source": [
    "### lets start"
   ]
  },
  {
   "cell_type": "markdown",
   "id": "fbd6f303",
   "metadata": {},
   "source": [
    "------------------------------------------------------------------------------------------------------------------"
   ]
  },
  {
   "cell_type": "markdown",
   "id": "e4cf8c8f",
   "metadata": {},
   "source": [
    "# Outline\n",
    "- Data types\n",
    "- Why types matter\n",
    "    - Operations\n",
    "    - Errors\n",
    "- Changing a data type\n",
    "- Other data types\n",
    "- Comparasion operators\n",
    "- Logical operators"
   ]
  },
  {
   "cell_type": "markdown",
   "id": "4dc40f82",
   "metadata": {},
   "source": [
    "## Data Types"
   ]
  },
  {
   "cell_type": "code",
   "execution_count": 17,
   "id": "d21f5c62",
   "metadata": {},
   "outputs": [
    {
     "data": {
      "text/plain": [
       "int"
      ]
     },
     "execution_count": 17,
     "metadata": {},
     "output_type": "execute_result"
    }
   ],
   "source": [
    "#Entero\n",
    "type(1)"
   ]
  },
  {
   "cell_type": "code",
   "execution_count": 18,
   "id": "7e8c404f",
   "metadata": {},
   "outputs": [
    {
     "data": {
      "text/plain": [
       "float"
      ]
     },
     "execution_count": 18,
     "metadata": {},
     "output_type": "execute_result"
    }
   ],
   "source": [
    "#Flotante/Decimal\n",
    "type(1.0)"
   ]
  },
  {
   "cell_type": "code",
   "execution_count": 19,
   "id": "a0ddfb16",
   "metadata": {},
   "outputs": [
    {
     "data": {
      "text/plain": [
       "str"
      ]
     },
     "execution_count": 19,
     "metadata": {},
     "output_type": "execute_result"
    }
   ],
   "source": [
    "#String\n",
    "type(\"Morita bonita\")"
   ]
  },
  {
   "cell_type": "code",
   "execution_count": 20,
   "id": "62657770",
   "metadata": {},
   "outputs": [
    {
     "data": {
      "text/plain": [
       "str"
      ]
     },
     "execution_count": 20,
     "metadata": {},
     "output_type": "execute_result"
    }
   ],
   "source": [
    "#String aunque sea numero\n",
    "type(\"6\")"
   ]
  },
  {
   "cell_type": "code",
   "execution_count": 21,
   "id": "524c3f03",
   "metadata": {},
   "outputs": [
    {
     "data": {
      "text/plain": [
       "bool"
      ]
     },
     "execution_count": 21,
     "metadata": {},
     "output_type": "execute_result"
    }
   ],
   "source": [
    "#Flotante falso\n",
    "type(False)"
   ]
  },
  {
   "cell_type": "code",
   "execution_count": 23,
   "id": "bd693f50",
   "metadata": {},
   "outputs": [
    {
     "data": {
      "text/plain": [
       "bool"
      ]
     },
     "execution_count": 23,
     "metadata": {},
     "output_type": "execute_result"
    }
   ],
   "source": [
    "#Flotante verdadero\n",
    "type(True)"
   ]
  },
  {
   "cell_type": "markdown",
   "id": "5b96d659",
   "metadata": {},
   "source": [
    "## Wht types matters\n",
    "### Operations"
   ]
  },
  {
   "cell_type": "code",
   "execution_count": 32,
   "id": "5c691074",
   "metadata": {},
   "outputs": [
    {
     "data": {
      "text/plain": [
       "0"
      ]
     },
     "execution_count": 32,
     "metadata": {},
     "output_type": "execute_result"
    }
   ],
   "source": [
    "False + False"
   ]
  },
  {
   "cell_type": "code",
   "execution_count": 31,
   "id": "b18860fc",
   "metadata": {},
   "outputs": [
    {
     "data": {
      "text/plain": [
       "1"
      ]
     },
     "execution_count": 31,
     "metadata": {},
     "output_type": "execute_result"
    }
   ],
   "source": [
    "False + True"
   ]
  },
  {
   "cell_type": "code",
   "execution_count": 37,
   "id": "f1bb34de",
   "metadata": {},
   "outputs": [
    {
     "data": {
      "text/plain": [
       "3"
      ]
     },
     "execution_count": 37,
     "metadata": {},
     "output_type": "execute_result"
    }
   ],
   "source": [
    "#Unlike other lenguages Phyton asume \"True\" as a integer \"1\" \n",
    "#and \"False\" as a integer \"0\"\n",
    "True + True + True + False"
   ]
  },
  {
   "cell_type": "code",
   "execution_count": 25,
   "id": "ea771ac8",
   "metadata": {},
   "outputs": [
    {
     "data": {
      "text/plain": [
       "int"
      ]
     },
     "execution_count": 25,
     "metadata": {},
     "output_type": "execute_result"
    }
   ],
   "source": [
    "type(False + True)"
   ]
  },
  {
   "cell_type": "code",
   "execution_count": 26,
   "id": "849a9523",
   "metadata": {},
   "outputs": [
    {
     "data": {
      "text/plain": [
       "3"
      ]
     },
     "execution_count": 26,
     "metadata": {},
     "output_type": "execute_result"
    }
   ],
   "source": [
    "1+2"
   ]
  },
  {
   "cell_type": "code",
   "execution_count": 29,
   "id": "cf72854b",
   "metadata": {},
   "outputs": [
    {
     "data": {
      "text/plain": [
       "'KaleSpinach'"
      ]
     },
     "execution_count": 29,
     "metadata": {},
     "output_type": "execute_result"
    }
   ],
   "source": [
    "#Concatenate string using \"+\"\n",
    "\"Kale\" + \"Spinach\""
   ]
  },
  {
   "cell_type": "markdown",
   "id": "33ac54f4",
   "metadata": {},
   "source": [
    "### Errors "
   ]
  },
  {
   "cell_type": "code",
   "execution_count": 38,
   "id": "be223865",
   "metadata": {},
   "outputs": [
    {
     "ename": "TypeError",
     "evalue": "unsupported operand type(s) for -: 'str' and 'str'",
     "output_type": "error",
     "traceback": [
      "\u001b[1;31m---------------------------------------------------------------------------\u001b[0m",
      "\u001b[1;31mTypeError\u001b[0m                                 Traceback (most recent call last)",
      "Cell \u001b[1;32mIn[38], line 2\u001b[0m\n\u001b[0;32m      1\u001b[0m \u001b[38;5;66;03m#However we cant use \"-\" because this ain't integers\u001b[39;00m\n\u001b[1;32m----> 2\u001b[0m \u001b[38;5;124;43m\"\u001b[39;49m\u001b[38;5;124;43mKayle\u001b[39;49m\u001b[38;5;124;43m\"\u001b[39;49m\u001b[43m \u001b[49m\u001b[38;5;241;43m-\u001b[39;49m\u001b[43m \u001b[49m\u001b[38;5;124;43m\"\u001b[39;49m\u001b[38;5;124;43mSpinach\u001b[39;49m\u001b[38;5;124;43m\"\u001b[39;49m\n",
      "\u001b[1;31mTypeError\u001b[0m: unsupported operand type(s) for -: 'str' and 'str'"
     ]
    }
   ],
   "source": [
    "#However we cant use \"-\" because this ain't integers\n",
    "\"Kayle\" - \"Spinach\""
   ]
  },
  {
   "cell_type": "markdown",
   "id": "68492fa9",
   "metadata": {},
   "source": [
    "## Changing the data type "
   ]
  },
  {
   "cell_type": "code",
   "execution_count": 51,
   "id": "40c24e2d",
   "metadata": {},
   "outputs": [
    {
     "data": {
      "text/plain": [
       "int"
      ]
     },
     "execution_count": 51,
     "metadata": {},
     "output_type": "execute_result"
    }
   ],
   "source": [
    "#Usualy Python assume that an number \n",
    "#without \".\" (decimals) is  an integer \n",
    "type(15)"
   ]
  },
  {
   "cell_type": "code",
   "execution_count": 52,
   "id": "6f0f88b1",
   "metadata": {},
   "outputs": [
    {
     "data": {
      "text/plain": [
       "15.0"
      ]
     },
     "execution_count": 52,
     "metadata": {},
     "output_type": "execute_result"
    }
   ],
   "source": [
    "#But if we need it, we can convert it to a float with  the\n",
    "#function \"float\"\n",
    "float(15)"
   ]
  },
  {
   "cell_type": "code",
   "execution_count": 53,
   "id": "ea0e1750",
   "metadata": {},
   "outputs": [
    {
     "data": {
      "text/plain": [
       "int"
      ]
     },
     "execution_count": 53,
     "metadata": {},
     "output_type": "execute_result"
    }
   ],
   "source": [
    "#We can see it saving it into a variable\n",
    "#where we store it in first place as a number\n",
    "#and then we change it into a float with the function \"float\"\n",
    "x = 15\n",
    "type(x)"
   ]
  },
  {
   "cell_type": "code",
   "execution_count": 54,
   "id": "6fc567ab",
   "metadata": {},
   "outputs": [
    {
     "data": {
      "text/plain": [
       "float"
      ]
     },
     "execution_count": 54,
     "metadata": {},
     "output_type": "execute_result"
    }
   ],
   "source": [
    "y = float(x)\n",
    "type(y)"
   ]
  },
  {
   "cell_type": "code",
   "execution_count": 48,
   "id": "43dede45",
   "metadata": {},
   "outputs": [
    {
     "data": {
      "text/plain": [
       "float"
      ]
     },
     "execution_count": 48,
     "metadata": {},
     "output_type": "execute_result"
    }
   ],
   "source": [
    "type(y)"
   ]
  },
  {
   "cell_type": "markdown",
   "id": "24a9e964",
   "metadata": {},
   "source": [
    "### Other examples\n",
    "- int()\n",
    "- bool()"
   ]
  },
  {
   "cell_type": "code",
   "execution_count": 60,
   "id": "bc906152",
   "metadata": {},
   "outputs": [
    {
     "name": "stdout",
     "output_type": "stream",
     "text": [
      "True\n"
     ]
    }
   ],
   "source": [
    "#Why in this pice of code the number \"123\" is \"True\"?\n",
    "#Because is not \"0\", \"0\" is \"False\"\n",
    "z = bool(123)\n",
    "print(z)"
   ]
  },
  {
   "cell_type": "code",
   "execution_count": 58,
   "id": "45ab3abc",
   "metadata": {},
   "outputs": [
    {
     "name": "stdout",
     "output_type": "stream",
     "text": [
      "False\n"
     ]
    }
   ],
   "source": [
    "n = bool(0)\n",
    "print(n)"
   ]
  },
  {
   "cell_type": "code",
   "execution_count": 59,
   "id": "a2da7056",
   "metadata": {},
   "outputs": [
    {
     "name": "stdout",
     "output_type": "stream",
     "text": [
      "True\n"
     ]
    }
   ],
   "source": [
    "m = bool(-2)\n",
    "print(m)"
   ]
  },
  {
   "cell_type": "markdown",
   "id": "4058d697",
   "metadata": {},
   "source": [
    "## Other data types\n",
    "- List\n",
    "- Tuples\n",
    "- Dictionaries\n",
    "- DataFrames"
   ]
  },
  {
   "cell_type": "markdown",
   "id": "58f20bff",
   "metadata": {},
   "source": [
    "## Comparasion operators"
   ]
  },
  {
   "cell_type": "code",
   "execution_count": 61,
   "id": "580a6c0b",
   "metadata": {},
   "outputs": [
    {
     "data": {
      "text/plain": [
       "False"
      ]
     },
     "execution_count": 61,
     "metadata": {},
     "output_type": "execute_result"
    }
   ],
   "source": [
    "# == Checks for equality\n",
    "4==5"
   ]
  },
  {
   "cell_type": "code",
   "execution_count": 62,
   "id": "4b9a707d",
   "metadata": {},
   "outputs": [
    {
     "data": {
      "text/plain": [
       "True"
      ]
     },
     "execution_count": 62,
     "metadata": {},
     "output_type": "execute_result"
    }
   ],
   "source": [
    "# < Less than\n",
    "4<5"
   ]
  },
  {
   "cell_type": "code",
   "execution_count": 63,
   "id": "8ae48a7f",
   "metadata": {},
   "outputs": [
    {
     "data": {
      "text/plain": [
       "False"
      ]
     },
     "execution_count": 63,
     "metadata": {},
     "output_type": "execute_result"
    }
   ],
   "source": [
    "# > Greather than\n",
    "4>5"
   ]
  },
  {
   "cell_type": "code",
   "execution_count": 66,
   "id": "82b7abeb",
   "metadata": {},
   "outputs": [
    {
     "data": {
      "text/plain": [
       "False"
      ]
     },
     "execution_count": 66,
     "metadata": {},
     "output_type": "execute_result"
    }
   ],
   "source": [
    "# >= Greater than or equal to\n",
    "4 >= 5"
   ]
  },
  {
   "cell_type": "code",
   "execution_count": 68,
   "id": "f1f08121",
   "metadata": {},
   "outputs": [
    {
     "data": {
      "text/plain": [
       "True"
      ]
     },
     "execution_count": 68,
     "metadata": {},
     "output_type": "execute_result"
    }
   ],
   "source": [
    "# <= Less than or equal to\n",
    "4 <= 5"
   ]
  },
  {
   "cell_type": "code",
   "execution_count": 69,
   "id": "041c01d4",
   "metadata": {},
   "outputs": [
    {
     "data": {
      "text/plain": [
       "True"
      ]
     },
     "execution_count": 69,
     "metadata": {},
     "output_type": "execute_result"
    }
   ],
   "source": [
    "# != Does not equal\n",
    "4 != 5"
   ]
  },
  {
   "cell_type": "markdown",
   "id": "f5747bf7",
   "metadata": {},
   "source": [
    "## Logical operators\n",
    "In Python we can use multiple logical operators, the syntax can be either characters or symbols:\n",
    "- \"and\" or \"&\"\n",
    "- \"or\" or \"|\""
   ]
  },
  {
   "cell_type": "code",
   "execution_count": 83,
   "id": "1bff2a5e",
   "metadata": {},
   "outputs": [
    {
     "data": {
      "text/plain": [
       "True"
      ]
     },
     "execution_count": 83,
     "metadata": {},
     "output_type": "execute_result"
    }
   ],
   "source": [
    "True & True"
   ]
  },
  {
   "cell_type": "code",
   "execution_count": 73,
   "id": "73b483f1",
   "metadata": {},
   "outputs": [
    {
     "data": {
      "text/plain": [
       "False"
      ]
     },
     "execution_count": 73,
     "metadata": {},
     "output_type": "execute_result"
    }
   ],
   "source": [
    "False and False"
   ]
  },
  {
   "cell_type": "code",
   "execution_count": 74,
   "id": "aaa3265d",
   "metadata": {},
   "outputs": [
    {
     "data": {
      "text/plain": [
       "False"
      ]
     },
     "execution_count": 74,
     "metadata": {},
     "output_type": "execute_result"
    }
   ],
   "source": [
    "True and False"
   ]
  },
  {
   "cell_type": "code",
   "execution_count": 85,
   "id": "ec4659d8",
   "metadata": {},
   "outputs": [
    {
     "data": {
      "text/plain": [
       "True"
      ]
     },
     "execution_count": 85,
     "metadata": {},
     "output_type": "execute_result"
    }
   ],
   "source": [
    "True or True"
   ]
  },
  {
   "cell_type": "code",
   "execution_count": 76,
   "id": "cf8c6b43",
   "metadata": {},
   "outputs": [
    {
     "data": {
      "text/plain": [
       "True"
      ]
     },
     "execution_count": 76,
     "metadata": {},
     "output_type": "execute_result"
    }
   ],
   "source": [
    "True or False"
   ]
  },
  {
   "cell_type": "code",
   "execution_count": 88,
   "id": "98c84a12",
   "metadata": {},
   "outputs": [
    {
     "data": {
      "text/plain": [
       "True"
      ]
     },
     "execution_count": 88,
     "metadata": {},
     "output_type": "execute_result"
    }
   ],
   "source": [
    "False | True"
   ]
  },
  {
   "cell_type": "code",
   "execution_count": 87,
   "id": "1ad1a274",
   "metadata": {},
   "outputs": [
    {
     "data": {
      "text/plain": [
       "False"
      ]
     },
     "execution_count": 87,
     "metadata": {},
     "output_type": "execute_result"
    }
   ],
   "source": [
    "False or False"
   ]
  },
  {
   "cell_type": "code",
   "execution_count": 78,
   "id": "141c0325",
   "metadata": {},
   "outputs": [
    {
     "data": {
      "text/plain": [
       "False"
      ]
     },
     "execution_count": 78,
     "metadata": {},
     "output_type": "execute_result"
    }
   ],
   "source": [
    "True and True and False and True"
   ]
  },
  {
   "cell_type": "code",
   "execution_count": 79,
   "id": "931a57e5",
   "metadata": {},
   "outputs": [
    {
     "data": {
      "text/plain": [
       "True"
      ]
     },
     "execution_count": 79,
     "metadata": {},
     "output_type": "execute_result"
    }
   ],
   "source": [
    "True and True or False"
   ]
  },
  {
   "cell_type": "code",
   "execution_count": 90,
   "id": "208f0aeb",
   "metadata": {},
   "outputs": [],
   "source": [
    "x = 5\n",
    "y = 10"
   ]
  },
  {
   "cell_type": "code",
   "execution_count": 91,
   "id": "7dbb9a7c",
   "metadata": {},
   "outputs": [
    {
     "data": {
      "text/plain": [
       "True"
      ]
     },
     "execution_count": 91,
     "metadata": {},
     "output_type": "execute_result"
    }
   ],
   "source": [
    "x>3 and y<20"
   ]
  },
  {
   "cell_type": "code",
   "execution_count": 92,
   "id": "496b2727",
   "metadata": {},
   "outputs": [
    {
     "data": {
      "text/plain": [
       "False"
      ]
     },
     "execution_count": 92,
     "metadata": {},
     "output_type": "execute_result"
    }
   ],
   "source": [
    "not True"
   ]
  },
  {
   "cell_type": "code",
   "execution_count": 93,
   "id": "2115a676",
   "metadata": {},
   "outputs": [
    {
     "data": {
      "text/plain": [
       "True"
      ]
     },
     "execution_count": 93,
     "metadata": {},
     "output_type": "execute_result"
    }
   ],
   "source": [
    "not False"
   ]
  },
  {
   "cell_type": "code",
   "execution_count": null,
   "id": "f7e96185",
   "metadata": {},
   "outputs": [],
   "source": []
  }
 ],
 "metadata": {
  "kernelspec": {
   "display_name": "Python 3 (ipykernel)",
   "language": "python",
   "name": "python3"
  },
  "language_info": {
   "codemirror_mode": {
    "name": "ipython",
    "version": 3
   },
   "file_extension": ".py",
   "mimetype": "text/x-python",
   "name": "python",
   "nbconvert_exporter": "python",
   "pygments_lexer": "ipython3",
   "version": "3.10.9"
  }
 },
 "nbformat": 4,
 "nbformat_minor": 5
}
